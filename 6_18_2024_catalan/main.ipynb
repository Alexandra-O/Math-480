{
 "cells": [
  {
   "cell_type": "markdown",
   "metadata": {},
   "source": [
    "## Imports\n",
    "The files you need for this notebook are imported in the cell below."
   ]
  },
  {
   "cell_type": "code",
   "execution_count": 1,
   "metadata": {},
   "outputs": [],
   "source": [
    "import catalan\n",
    "import os\n",
    "import time\n",
    "import matplotlib.pyplot as plt\n",
    "dirname = os.path.dirname(\"./\")"
   ]
  },
  {
   "cell_type": "markdown",
   "metadata": {},
   "source": [
    "## Generate Parenthesizations\n",
    "\n",
    "Generate all possible parenthesizations of length $n$ for $1 \\le n \\le 10$. Files should be outputted to `data/catalan_parenthesizations_n.txt` and a plot of the time used to generate each data file should go in `figures/catalan_parenthesizations.png`."
   ]
  },
  {
   "cell_type": "code",
   "execution_count": 22,
   "metadata": {},
   "outputs": [
    {
     "data": {
      "image/png": "[encoded data removed]",
      "text/plain": [
       "<Figure size 640x480 with 1 Axes>"
      ]
     },
     "metadata": {},
     "output_type": "display_data"
    }
   ],
   "source": [
    "execution_times = []\n",
    "with open('data/catalan_parenthesizations_n.txt', 'w') as file:\n",
    "  for n in range(1, 11):\n",
    "    start = time.time()\n",
    "    result =catalan.parenthesizations(n)\n",
    "    end = time.time()\n",
    "    file.write(str(result))\n",
    "    execution_times.append(end - start)\n",
    "\n",
    "plt.plot(execution_times)\n",
    "plt.xlabel('n')\n",
    "plt.ylabel('Execution Time (seconds)')\n",
    "plt.title('Execution Time of Parenthesizations')\n",
    "plt.savefig('figures/catalan_parenthesizations.png')\n"
   ]
  },
  {
   "cell_type": "markdown",
   "metadata": {},
   "source": [
    "## Generate Product Orders\n",
    "\n",
    "Generate all possible product orders of $n$ elements for $2 \\le n \\le 11$. Files should be outputted to `data/catalan_product_orders_n.txt` and a plot of the time used to generate each data file should go in `figures/catalan_product_orders.png`."
   ]
  },
  {
   "cell_type": "code",
   "execution_count": 5,
   "metadata": {},
   "outputs": [
    {
     "ename": "NameError",
     "evalue": "name 'catalan' is not defined",
     "output_type": "error",
     "traceback": [
      "\u001b[1;31m---------------------------------------------------------------------------\u001b[0m",
      "\u001b[1;31mNameError\u001b[0m                                 Traceback (most recent call last)",
      "Cell \u001b[1;32mIn[5], line 2\u001b[0m\n\u001b[0;32m      1\u001b[0m \u001b[38;5;28;01mfor\u001b[39;00m n \u001b[38;5;129;01min\u001b[39;00m \u001b[38;5;28mrange\u001b[39m(\u001b[38;5;241m2\u001b[39m, \u001b[38;5;241m12\u001b[39m):\n\u001b[1;32m----> 2\u001b[0m   \u001b[38;5;28mprint\u001b[39m(\u001b[43mcatalan\u001b[49m\u001b[38;5;241m.\u001b[39mproduct_orders(n))\n",
      "\u001b[1;31mNameError\u001b[0m: name 'catalan' is not defined"
     ]
    }
   ],
   "source": [
    "execution_times = []\n",
    "with open('data/catalan_product_orders_n.txt', 'w') as file:\n",
    "  for n in range(2, 12):\n",
    "    start = time.time()\n",
    "    result = catalan.product_orders(n)\n",
    "    end = time.time()\n",
    "    file.write(str(result))\n",
    "    execution_times.append(end - start)\n",
    "\n",
    "plt.plot(execution_times)\n",
    "plt.xlabel('n')\n",
    "plt.ylabel('Execution Time (seconds)')\n",
    "plt.title('Execution Time of Product Orders')\n",
    "plt.savefig('figures/catalan_product_orders.png')"
   ]
  },
  {
   "cell_type": "markdown",
   "metadata": {},
   "source": [
    "## Generate 231 Avoiding Permutations\n",
    "\n",
    "Generate all possible 231 avoiding permutations on $n$ elements for $1 \\le n \\le 10$. Files should be outputted to `data/catalan_permutations_n.txt` and a plot of the time used to generate each data file should go in `figures/catalan_permutations.png`."
   ]
  },
  {
   "cell_type": "code",
   "execution_count": 3,
   "metadata": {},
   "outputs": [
    {
     "ename": "NameError",
     "evalue": "name 'catalan' is not defined",
     "output_type": "error",
     "traceback": [
      "\u001b[1;31m---------------------------------------------------------------------------\u001b[0m",
      "\u001b[1;31mNameError\u001b[0m                                 Traceback (most recent call last)",
      "Cell \u001b[1;32mIn[3], line 2\u001b[0m\n\u001b[0;32m      1\u001b[0m \u001b[38;5;28;01mfor\u001b[39;00m n \u001b[38;5;129;01min\u001b[39;00m \u001b[38;5;28mrange\u001b[39m(\u001b[38;5;241m1\u001b[39m, \u001b[38;5;241m11\u001b[39m):\n\u001b[1;32m----> 2\u001b[0m   \u001b[38;5;28mprint\u001b[39m(\u001b[43mcatalan\u001b[49m\u001b[38;5;241m.\u001b[39mpermutations_avoiding_231(n))\n",
      "\u001b[1;31mNameError\u001b[0m: name 'catalan' is not defined"
     ]
    }
   ],
   "source": [
    "execution_times = []\n",
    "with open('data/catalan_permutations_n.txt', 'w') as file:\n",
    "  for n in range(1, 11):\n",
    "    start = time.time()\n",
    "    result =catalan.permutations_avoiding_231(n)\n",
    "    end = time.time()\n",
    "    file.write(str(result))\n",
    "    execution_times.append(end - start)\n",
    "\n",
    "plt.plot(execution_times)\n",
    "plt.xlabel('n')\n",
    "plt.ylabel('Execution Time (seconds)')\n",
    "plt.title('Execution Time of Permutations Avoioding 231')\n",
    "plt.savefig('figures/catalan_permutations.png')"
   ]
  },
  {
   "cell_type": "markdown",
   "metadata": {},
   "source": [
    "## Generate Triangulations\n",
    "\n",
    "Generate all possible triangulations on an $n$-sided polygon for $3 \\le n \\le 12$. Files should be outputted to `data/catalan_triangulations_n.txt` and a plot of the time used to generate each data file should go in `figures/catalan_triangulations.png`."
   ]
  },
  {
   "cell_type": "code",
   "execution_count": 37,
   "metadata": {},
   "outputs": [
    {
     "ename": "KeyboardInterrupt",
     "evalue": "",
     "output_type": "error",
     "traceback": [
      "\u001b[1;31m---------------------------------------------------------------------------\u001b[0m",
      "\u001b[1;31mKeyboardInterrupt\u001b[0m                         Traceback (most recent call last)",
      "Cell \u001b[1;32mIn[37], line 5\u001b[0m\n\u001b[0;32m      3\u001b[0m \u001b[38;5;28;01mfor\u001b[39;00m n \u001b[38;5;129;01min\u001b[39;00m \u001b[38;5;28mrange\u001b[39m(\u001b[38;5;241m3\u001b[39m, \u001b[38;5;241m13\u001b[39m):\n\u001b[0;32m      4\u001b[0m   start \u001b[38;5;241m=\u001b[39m time\u001b[38;5;241m.\u001b[39mtime()\n\u001b[1;32m----> 5\u001b[0m   result \u001b[38;5;241m=\u001b[39m \u001b[43mcatalan\u001b[49m\u001b[38;5;241;43m.\u001b[39;49m\u001b[43mpermutations_avoiding_231\u001b[49m\u001b[43m(\u001b[49m\u001b[43mn\u001b[49m\u001b[43m)\u001b[49m\n\u001b[0;32m      6\u001b[0m   end \u001b[38;5;241m=\u001b[39m time\u001b[38;5;241m.\u001b[39mtime()\n\u001b[0;32m      7\u001b[0m   file\u001b[38;5;241m.\u001b[39mwrite(\u001b[38;5;28mstr\u001b[39m(result))\n",
      "File \u001b[1;32mc:\\Users\\aaorc\\Downloads\\Math-480-master\\Math-480\\6_18_2024_catalan\\catalan.py:88\u001b[0m, in \u001b[0;36mpermutations_avoiding_231\u001b[1;34m(n)\u001b[0m\n\u001b[0;32m     86\u001b[0m   \u001b[38;5;28;01mfor\u001b[39;00m j \u001b[38;5;129;01min\u001b[39;00m \u001b[38;5;28mrange\u001b[39m(i \u001b[38;5;241m+\u001b[39m \u001b[38;5;241m1\u001b[39m, n \u001b[38;5;241m-\u001b[39m \u001b[38;5;241m1\u001b[39m):\n\u001b[0;32m     87\u001b[0m     \u001b[38;5;28;01mfor\u001b[39;00m k \u001b[38;5;129;01min\u001b[39;00m \u001b[38;5;28mrange\u001b[39m(i\u001b[38;5;241m+\u001b[39m\u001b[38;5;241m2\u001b[39m, n):\n\u001b[1;32m---> 88\u001b[0m       \u001b[38;5;28;01mif\u001b[39;00m permutation[i] \u001b[38;5;241m<\u001b[39m permutation[j] \u001b[38;5;129;01mand\u001b[39;00m \u001b[43mpermutation\u001b[49m\u001b[43m[\u001b[49m\u001b[43mj\u001b[49m\u001b[43m]\u001b[49m\u001b[43m \u001b[49m\u001b[38;5;241;43m<\u001b[39;49m\u001b[43m \u001b[49m\u001b[43mpermutation\u001b[49m\u001b[43m[\u001b[49m\u001b[43mk\u001b[49m\u001b[43m]\u001b[49m \u001b[38;5;129;01mand\u001b[39;00m permutation[i] \u001b[38;5;241m>\u001b[39m permutation[k]:\n\u001b[0;32m     89\u001b[0m         p \u001b[38;5;241m=\u001b[39m \u001b[38;5;28;01mFalse\u001b[39;00m\n\u001b[0;32m     90\u001b[0m \u001b[38;5;28;01mif\u001b[39;00m p:\n",
      "\u001b[1;31mKeyboardInterrupt\u001b[0m: "
     ]
    }
   ],
   "source": [
    "execution_times = []\n",
    "with open('data/catalan_triangulations_n.txt', 'w') as file:\n",
    "  for n in range(3, 13):\n",
    "    start = time.time()\n",
    "    result = catalan.triangulations(n)\n",
    "    end = time.time()\n",
    "    file.write(str(result))\n",
    "    execution_times.append(end - start)\n",
    "\n",
    "plt.plot(execution_times)\n",
    "plt.xlabel('n')\n",
    "plt.ylabel('Execution Time (seconds)')\n",
    "plt.title('Execution Time of Triangulations')\n",
    "plt.savefig('figures/catalan_triangulations.png')"
   ]
  }
 ],
 "metadata": {
  "kernelspec": {
   "display_name": "Python 3",
   "language": "python",
   "name": "python3"
  },
  "language_info": {
   "codemirror_mode": {
    "name": "ipython",
    "version": 3
   },
   "file_extension": ".py",
   "mimetype": "text/x-python",
   "name": "python",
   "nbconvert_exporter": "python",
   "pygments_lexer": "ipython3",
   "version": "3.10.11"
  }
 },
 "nbformat": 4,
 "nbformat_minor": 2
}
